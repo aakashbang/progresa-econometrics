{
 "cells": [
  {
   "cell_type": "markdown",
   "metadata": {
    "ein.tags": [
     "worksheet-0"
    ],
    "slideshow": {
     "slide_type": "-"
    }
   },
   "source": [
    "# Problem Set 2, due January 23th at 5:30 pm/January 24th 3:30pm\n",
    "\n",
    "**Please Note:** This assignment will likely take you a _long_ time, especially if you are new to Python. Start early!"
   ]
  },
  {
   "cell_type": "markdown",
   "metadata": {
    "ein.tags": [
     "worksheet-0"
    ],
    "slideshow": {
     "slide_type": "-"
    }
   },
   "source": [
    "## Introduction to the assignment\n",
    "\n",
    "For this assignment, you will be using data from the [Progresa program](http://en.wikipedia.org/wiki/Oportunidades), a government social assistance program in Mexico. This program, as well as the details of its impact, are described in the paper \"[School subsidies for the poor: evaluating the Mexican Progresa poverty program](http://www.sciencedirect.com/science/article/pii/S0304387803001858)\", by Paul Shultz (available on Canvas). Please familiarize yourself with the PROGRESA program before beginning this problem set, so you have a rough sense of where the data come from and how they were generated. If you just proceed into the problem set without understanding Progresa or the data, it will be very difficult!\n",
    "\n",
    "The goal of this problem set is to implement some of the basic econometric techniques that you are learning in class to measure the impact of Progresa on secondary school enrollment rates. The timeline of the program was:\n",
    "\n",
    " * Baseline survey conducted in 1997\n",
    " * Intervention begins in 1998, \"Wave 1\" of data collected in 1998\n",
    " * \"Wave 2 of data\" collected in 1999\n",
    " * Evaluation ends in 2000, at which point the control villages were treated. \n",
    " \n",
    "When you are ready, download the progresa_sample.csv data from Canvas. The data are actual data collected to evaluate the impact of the Progresa program.  In this file, each row corresponds to an observation taken for a given child for a given year. There are two years of data (1997 and 1998), and just under 40,000 children who are surveyed in each year. For each child-year observation, the following variables are collected:\n",
    "\n",
    "| Variable name | Description|\n",
    "|---------|---------|\n",
    "|year\t  |year in which data is collected\n",
    "|sex\t  |male = 1|\n",
    "|indig\t  |indigenous = 1|\n",
    "|dist_sec |nearest distance to a secondary school|\n",
    "|sc\t      |enrolled in school in year of survey|\n",
    "|grc      |grade enrolled|\n",
    "|fam_n    |family size|\n",
    "|min_dist |\tmin distance to an urban center|\n",
    "|dist_cap |\tmin distance to the capital|\n",
    "|poor     |\tpoor = 1|\n",
    "|progresa |treatment =1|\n",
    "|hohedu\t  |years of schooling of head of household|\n",
    "|hohwag\t  |monthly wages of head of household|\n",
    "|welfare_index|\twelfare index used to classify poor|\n",
    "|hohsex\t  |gender of head of household (male=1)|\n",
    "|hohage   |age of head of household|\n",
    "|age      |years old|\n",
    "|folnum\t  |individual id|\n",
    "|village  |\tvillage id|\n",
    "|sc97\t  |schooling in 1997|"
   ]
  },
  {
   "cell_type": "code",
   "execution_count": 9,
   "metadata": {
    "collapsed": false
   },
   "outputs": [],
   "source": [
    "import pandas as pd\n",
    "from scipy import stats\n",
    "import numpy as np\n",
    "import matplotlib.pyplot as plt\n",
    "import warnings\n",
    "import matplotlib\n",
    "from pylab import *\n",
    "from scipy import *\n",
    "from pylab import rcParams\n",
    "import statsmodels.formula.api as smf\n",
    "%matplotlib inline\n"
   ]
  },
  {
   "cell_type": "code",
   "execution_count": 10,
   "metadata": {
    "collapsed": true
   },
   "outputs": [],
   "source": [
    "warnings.simplefilter(action = \"ignore\", category = RuntimeWarning)"
   ]
  },
  {
   "cell_type": "markdown",
   "metadata": {
    "ein.tags": [
     "worksheet-0"
    ],
    "slideshow": {
     "slide_type": "-"
    }
   },
   "source": [
    "---\n",
    "\n",
    "##Part 1: Descriptive analysis\n",
    "\n",
    "### 1.1\tSummary Statistics\n",
    "\n",
    "Present summary statistics (mean and standard deviation) for all of the demographic variables in the dataset (i.e., everything except year, folnum, village). Present these in a single table alphabetized by variable name. Do NOT simply expect the grader to scroll through your output!"
   ]
  },
  {
   "cell_type": "code",
   "execution_count": 11,
   "metadata": {
    "collapsed": false
   },
   "outputs": [
    {
     "name": "stdout",
     "output_type": "stream",
     "text": [
      "\n",
      " Summary Statistics (Mean and Standard Deviation) for all numeric gemographic variables in the dataset:\n"
     ]
    },
    {
     "data": {
      "text/html": [
       "<div>\n",
       "<table border=\"1\" class=\"dataframe\">\n",
       "  <thead>\n",
       "    <tr style=\"text-align: right;\">\n",
       "      <th></th>\n",
       "      <th>sex</th>\n",
       "      <th>indig</th>\n",
       "      <th>dist_sec</th>\n",
       "      <th>sc</th>\n",
       "      <th>grc</th>\n",
       "      <th>fam_n</th>\n",
       "      <th>min_dist</th>\n",
       "      <th>dist_cap</th>\n",
       "      <th>hohedu</th>\n",
       "      <th>hohwag</th>\n",
       "      <th>welfare_index</th>\n",
       "      <th>hohsex</th>\n",
       "      <th>hohage</th>\n",
       "      <th>age</th>\n",
       "      <th>grc97</th>\n",
       "      <th>sc97</th>\n",
       "    </tr>\n",
       "  </thead>\n",
       "  <tbody>\n",
       "    <tr>\n",
       "      <th>mean</th>\n",
       "      <td>0.512211</td>\n",
       "      <td>0.298324</td>\n",
       "      <td>2.418910</td>\n",
       "      <td>0.819818</td>\n",
       "      <td>3.963537</td>\n",
       "      <td>7.215715</td>\n",
       "      <td>103.447520</td>\n",
       "      <td>147.674452</td>\n",
       "      <td>2.768104</td>\n",
       "      <td>586.985312</td>\n",
       "      <td>690.346564</td>\n",
       "      <td>0.925185</td>\n",
       "      <td>44.436717</td>\n",
       "      <td>11.366460</td>\n",
       "      <td>3.705372</td>\n",
       "      <td>0.813922</td>\n",
       "    </tr>\n",
       "    <tr>\n",
       "      <th>std</th>\n",
       "      <td>0.499854</td>\n",
       "      <td>0.457525</td>\n",
       "      <td>2.234109</td>\n",
       "      <td>0.384342</td>\n",
       "      <td>2.499063</td>\n",
       "      <td>2.352900</td>\n",
       "      <td>42.089441</td>\n",
       "      <td>76.063134</td>\n",
       "      <td>2.656106</td>\n",
       "      <td>788.133664</td>\n",
       "      <td>139.491130</td>\n",
       "      <td>0.263095</td>\n",
       "      <td>11.620372</td>\n",
       "      <td>3.167744</td>\n",
       "      <td>2.572387</td>\n",
       "      <td>0.389172</td>\n",
       "    </tr>\n",
       "  </tbody>\n",
       "</table>\n",
       "</div>"
      ],
      "text/plain": [
       "           sex     indig  dist_sec        sc       grc     fam_n    min_dist  \\\n",
       "mean  0.512211  0.298324  2.418910  0.819818  3.963537  7.215715  103.447520   \n",
       "std   0.499854  0.457525  2.234109  0.384342  2.499063  2.352900   42.089441   \n",
       "\n",
       "        dist_cap    hohedu      hohwag  welfare_index    hohsex     hohage  \\\n",
       "mean  147.674452  2.768104  586.985312     690.346564  0.925185  44.436717   \n",
       "std    76.063134  2.656106  788.133664     139.491130  0.263095  11.620372   \n",
       "\n",
       "            age     grc97      sc97  \n",
       "mean  11.366460  3.705372  0.813922  \n",
       "std    3.167744  2.572387  0.389172  "
      ]
     },
     "execution_count": 11,
     "metadata": {},
     "output_type": "execute_result"
    }
   ],
   "source": [
    "# Loading dataset and summarizing\n",
    "\n",
    "progresa_df = pd.read_csv(\"progresa_sample.csv\")\n",
    "progresa_summary = progresa_df.describe()\n",
    "print('\\n Summary Statistics (Mean and Standard Deviation) for all numeric gemographic variables in the dataset:')\n",
    "progresa_summary.loc[['mean','std']][['sex','indig','dist_sec','sc','grc','fam_n','min_dist','dist_cap',\n",
    "                                     'hohedu','hohwag','welfare_index','hohsex','hohage','age','grc97','sc97']]"
   ]
  },
  {
   "cell_type": "markdown",
   "metadata": {
    "ein.tags": [
     "worksheet-0"
    ],
    "slideshow": {
     "slide_type": "-"
    }
   },
   "source": [
    "### 1.2 Differences at baseline?\n",
    "\n",
    "Are the baseline (1997) demographic characteristics **for the poor**  different in treatment and control villages? Hint: Use a T-Test to determine whether there is a statistically significant difference in the average values of each of the variables in the dataset. Focus only on the data from 1997 for individuals who are poor (i.e., poor=='pobre').\n",
    "\n",
    "Present your results in a single table with the following columns and 14 (or so) rows:\n",
    "\n",
    "| Variable name | Average value (Treatment villages) | Average value (Control villages) | Difference (Treat - Control) | p-value |\n",
    "|------|------|------|------|------|\n",
    "|Male  |?     |?     |?     |?     |\n"
   ]
  },
  {
   "cell_type": "code",
   "execution_count": 12,
   "metadata": {
    "collapsed": false
   },
   "outputs": [],
   "source": [
    "# Cleaning values in main dataframe for treatment effect\n",
    "progresa_df.loc[progresa_df.progresa == 'basal', 'progresa'] = 1\n",
    "progresa_df.loc[progresa_df.progresa == '0', 'progresa'] = 0\n",
    "progresa_df.loc[progresa_df['poor'] == 'pobre', 'poor'] = 1\n",
    "progresa_df.loc[progresa_df['poor'] ==  'no pobre', 'poor'] = 0"
   ]
  },
  {
   "cell_type": "code",
   "execution_count": 13,
   "metadata": {
    "collapsed": false
   },
   "outputs": [
    {
     "data": {
      "text/html": [
       "<div>\n",
       "<table border=\"1\" class=\"dataframe\">\n",
       "  <thead>\n",
       "    <tr style=\"text-align: right;\">\n",
       "      <th></th>\n",
       "      <th>Variable name</th>\n",
       "      <th>Average value (Treatment villages)</th>\n",
       "      <th>Average value (Control villages)</th>\n",
       "      <th>Difference (Treat - Control)</th>\n",
       "      <th>p-value</th>\n",
       "    </tr>\n",
       "  </thead>\n",
       "  <tbody>\n",
       "    <tr>\n",
       "      <th>0</th>\n",
       "      <td>sex</td>\n",
       "      <td>0.519317</td>\n",
       "      <td>0.505052</td>\n",
       "      <td>2.50669</td>\n",
       "      <td>0.0121917</td>\n",
       "    </tr>\n",
       "    <tr>\n",
       "      <th>1</th>\n",
       "      <td>indig</td>\n",
       "      <td>0.325986</td>\n",
       "      <td>0.332207</td>\n",
       "      <td>-1.16171</td>\n",
       "      <td>0.24536</td>\n",
       "    </tr>\n",
       "    <tr>\n",
       "      <th>2</th>\n",
       "      <td>dist_sec</td>\n",
       "      <td>2.45312</td>\n",
       "      <td>2.50766</td>\n",
       "      <td>-2.10043</td>\n",
       "      <td>0.0356984</td>\n",
       "    </tr>\n",
       "    <tr>\n",
       "      <th>3</th>\n",
       "      <td>sc</td>\n",
       "      <td>0.822697</td>\n",
       "      <td>0.815186</td>\n",
       "      <td>1.66874</td>\n",
       "      <td>0.0951781</td>\n",
       "    </tr>\n",
       "    <tr>\n",
       "      <th>4</th>\n",
       "      <td>grc</td>\n",
       "      <td>3.5316</td>\n",
       "      <td>3.54305</td>\n",
       "      <td>-0.400196</td>\n",
       "      <td>0.689015</td>\n",
       "    </tr>\n",
       "    <tr>\n",
       "      <th>5</th>\n",
       "      <td>fam_n</td>\n",
       "      <td>7.28133</td>\n",
       "      <td>7.30247</td>\n",
       "      <td>-0.794167</td>\n",
       "      <td>0.427104</td>\n",
       "    </tr>\n",
       "    <tr>\n",
       "      <th>6</th>\n",
       "      <td>min_dist</td>\n",
       "      <td>107.153</td>\n",
       "      <td>103.238</td>\n",
       "      <td>8.20658</td>\n",
       "      <td>2.35831e-16</td>\n",
       "    </tr>\n",
       "    <tr>\n",
       "      <th>7</th>\n",
       "      <td>dist_cap</td>\n",
       "      <td>150.829</td>\n",
       "      <td>153.77</td>\n",
       "      <td>-3.33908</td>\n",
       "      <td>0.000841501</td>\n",
       "    </tr>\n",
       "    <tr>\n",
       "      <th>8</th>\n",
       "      <td>hohedu</td>\n",
       "      <td>2.66314</td>\n",
       "      <td>2.59035</td>\n",
       "      <td>2.54123</td>\n",
       "      <td>0.0110509</td>\n",
       "    </tr>\n",
       "    <tr>\n",
       "      <th>9</th>\n",
       "      <td>hohwag</td>\n",
       "      <td>544.34</td>\n",
       "      <td>573.164</td>\n",
       "      <td>-3.59459</td>\n",
       "      <td>0.000325384</td>\n",
       "    </tr>\n",
       "    <tr>\n",
       "      <th>10</th>\n",
       "      <td>welfare_index</td>\n",
       "      <td>655.428</td>\n",
       "      <td>659.579</td>\n",
       "      <td>-3.18859</td>\n",
       "      <td>0.00143102</td>\n",
       "    </tr>\n",
       "    <tr>\n",
       "      <th>11</th>\n",
       "      <td>hohsex</td>\n",
       "      <td>0.924656</td>\n",
       "      <td>0.922947</td>\n",
       "      <td>0.566312</td>\n",
       "      <td>0.571186</td>\n",
       "    </tr>\n",
       "    <tr>\n",
       "      <th>12</th>\n",
       "      <td>hohage</td>\n",
       "      <td>43.6488</td>\n",
       "      <td>44.2769</td>\n",
       "      <td>-4.77596</td>\n",
       "      <td>1.79624e-06</td>\n",
       "    </tr>\n",
       "    <tr>\n",
       "      <th>13</th>\n",
       "      <td>age</td>\n",
       "      <td>10.717</td>\n",
       "      <td>10.742</td>\n",
       "      <td>-0.70863</td>\n",
       "      <td>0.478559</td>\n",
       "    </tr>\n",
       "  </tbody>\n",
       "</table>\n",
       "</div>"
      ],
      "text/plain": [
       "    Variable name Average value (Treatment villages)  \\\n",
       "0             sex                           0.519317   \n",
       "1           indig                           0.325986   \n",
       "2        dist_sec                            2.45312   \n",
       "3              sc                           0.822697   \n",
       "4             grc                             3.5316   \n",
       "5           fam_n                            7.28133   \n",
       "6        min_dist                            107.153   \n",
       "7        dist_cap                            150.829   \n",
       "8          hohedu                            2.66314   \n",
       "9          hohwag                             544.34   \n",
       "10  welfare_index                            655.428   \n",
       "11         hohsex                           0.924656   \n",
       "12         hohage                            43.6488   \n",
       "13            age                             10.717   \n",
       "\n",
       "   Average value (Control villages) Difference (Treat - Control)      p-value  \n",
       "0                          0.505052                      2.50669    0.0121917  \n",
       "1                          0.332207                     -1.16171      0.24536  \n",
       "2                           2.50766                     -2.10043    0.0356984  \n",
       "3                          0.815186                      1.66874    0.0951781  \n",
       "4                           3.54305                    -0.400196     0.689015  \n",
       "5                           7.30247                    -0.794167     0.427104  \n",
       "6                           103.238                      8.20658  2.35831e-16  \n",
       "7                            153.77                     -3.33908  0.000841501  \n",
       "8                           2.59035                      2.54123    0.0110509  \n",
       "9                           573.164                     -3.59459  0.000325384  \n",
       "10                          659.579                     -3.18859   0.00143102  \n",
       "11                         0.922947                     0.566312     0.571186  \n",
       "12                          44.2769                     -4.77596  1.79624e-06  \n",
       "13                           10.742                     -0.70863     0.478559  "
      ]
     },
     "execution_count": 13,
     "metadata": {},
     "output_type": "execute_result"
    }
   ],
   "source": [
    "# Subsetting data per required conditions \n",
    "\n",
    "baseline_97_treatment = progresa_df[(progresa_df['poor'] == 1) & (progresa_df['year'] == 97) & (progresa_df['progresa'] == 1)]\n",
    "baseline_97_control = progresa_df[(progresa_df['poor'] == 1) & (progresa_df['year'] == 97) & (progresa_df['progresa'] == 0)]\n",
    "baseline_ttest = pd.DataFrame(columns = ['Variable name', 'Average value (Treatment villages)', 'Average value (Control villages)', 'Difference (Treat - Control)', 'p-value'])\n",
    "\n",
    "\n",
    "req_variables = ['sex','indig','dist_sec','sc','grc', 'fam_n','min_dist','dist_cap','hohedu','hohwag','welfare_index','hohsex','hohage','age']\n",
    "\n",
    "# Finding the mean values for above variables and finding the differences in the treatment and control groups via T Test\n",
    "\n",
    "for i in req_variables:\n",
    "        baseline_ttest.set_value(req_variables.index(i), 'Variable name', i)\n",
    "        baseline_ttest.set_value(req_variables.index(i), 'Average value (Treatment villages)',baseline_97_treatment[str(i)].mean())   \n",
    "        baseline_ttest.set_value(req_variables.index(i), 'Average value (Control villages)' ,baseline_97_control[str(i)].mean()) \n",
    "        t = stats.ttest_ind(baseline_97_treatment[str(i)][~np.isnan(baseline_97_treatment[str(i)])], baseline_97_control[str(i)][~np.isnan(baseline_97_control[str(i)])] )\n",
    "        baseline_ttest.set_value(req_variables.index(i), 'Difference (Treat - Control)',  t.statistic)\n",
    "        baseline_ttest.set_value(req_variables.index(i), 'p-value',  t.pvalue)\n",
    "\n",
    "baseline_ttest"
   ]
  },
  {
   "cell_type": "markdown",
   "metadata": {
    "ein.tags": [
     "worksheet-0"
    ],
    "slideshow": {
     "slide_type": "-"
    }
   },
   "source": [
    "### 1.3 Interpretation\n",
    "\n",
    "* A: Are there statistically significant differences between treatment and control villages as baseline? \n",
    "* B: Why does it matter if there are differences at baseline?\n",
    "* C: What does this imply about how to measure the impact of the treatment?"
   ]
  },
  {
   "cell_type": "markdown",
   "metadata": {
    "autoscroll": "json-false",
    "collapsed": false,
    "ein.tags": [
     "worksheet-0"
    ],
    "slideshow": {
     "slide_type": "-"
    }
   },
   "source": [
    "* A. Examining the average values in the variables of this experiment for the randomly assigned treatment and control villages we find that there are statistically significant differences between the treatment and control villages at the baseline. For instance, the following variables have statistically significant differences in average values at the baseline: Sex (gender), dist_sec (nearest distance to a secondary school), min_dist (min distance to an urban center), dist_cap (min distance to the capital), hohedu (years of schooling of head of household), hohwag (monthly wages of head of household), welfare_index (welfare index used to classify poor), hohage (age of head of household).\n",
    "* B. Randomization is one of the most important aspects in studying causal relationships between any parameters. But in this case, since the two groups are systematically different even before the treatment then that proves that the randomization did not work flawlessly. These differences would not help us to directly find causal relationships between the treatment and the subjects and not all changes can be directly attributed to the treatment.\n",
    "* C. Under randomized treatment, the differences between the outcomes of treatment and control group would give us the impact of the treatment. Since the randomization was not done effectively, we cannot adopt this impact measurement technique and we have to fallback on other techniques like double difference. (Double Difference between 97 and 98 among poor in Treatment vs. Control)"
   ]
  },
  {
   "cell_type": "markdown",
   "metadata": {
    "ein.tags": [
     "worksheet-0"
    ],
    "slideshow": {
     "slide_type": "-"
    }
   },
   "source": [
    "### 1.4 Graphical exploration, part 1\n",
    "\n",
    "For each level of household head education, compute the average enrollment rate in 1997. Create a scatterplot that shows this relationship. What do you notice?"
   ]
  },
  {
   "cell_type": "code",
   "execution_count": 14,
   "metadata": {
    "autoscroll": "json-false",
    "collapsed": false,
    "ein.tags": [
     "worksheet-0"
    ],
    "slideshow": {
     "slide_type": "-"
    }
   },
   "outputs": [
    {
     "name": "stdout",
     "output_type": "stream",
     "text": [
      "    hohedu        sc\n",
      "0        0  0.776137\n",
      "1        1  0.768537\n",
      "2        2  0.794552\n",
      "3        3  0.802956\n",
      "4        4  0.842951\n",
      "5        5  0.849835\n",
      "6        6  0.878469\n",
      "7        7  0.889535\n",
      "8        8  0.900000\n",
      "9        9  0.925023\n",
      "10      10  0.865385\n",
      "11      11  0.974359\n",
      "12      12  0.982955\n",
      "13      13  0.959459\n",
      "14      14  0.880952\n",
      "15      15  0.900000\n",
      "16      16  0.941176\n",
      "17      17  0.933333\n",
      "18      18  1.000000\n",
      "19      20  0.500000\n"
     ]
    },
    {
     "data": {
      "image/png": "[encoded data removed]",
      "text/plain": [
       "<matplotlib.figure.Figure at 0x223999bf978>"
      ]
     },
     "metadata": {},
     "output_type": "display_data"
    }
   ],
   "source": [
    "\n",
    "# Grouping data and finding average enrollment rates by level of household head education\n",
    "\n",
    "avg_enroll = pd.DataFrame(progresa_df[progresa_df['year']==97].groupby('hohedu').mean()['sc'])\n",
    "avg_enroll.reset_index(level = 0, inplace = True)\n",
    "print(avg_enroll)\n",
    "\n",
    "# Plotting the data\n",
    "\n",
    "matplotlib.style.use('ggplot')\n",
    "plt.scatter(list(avg_enroll['hohedu']),list(avg_enroll['sc']))\n",
    "plt.xlabel(\"Years of Schooling of Head of Household\")\n",
    "plt.ylabel(\"Average Enrollment Rate in 1997\")\n",
    "plt.show()"
   ]
  },
  {
   "cell_type": "markdown",
   "metadata": {},
   "source": [
    "The relationship between average school enrollment rates and the level of household head education is an interesting one. The avg enrollment rates increase steadily from around 0.75 to 0.92 for household head education years between 1 and 9. At the 10 year mark we observe a slight drop in average enrollment rates to 0.86 and the from year 11 onwards its back on track to around 0.97. There are many such drops and increases in the average enrollment rates as the years of household head education increases further. It finally drops to 0.5 as we hit the 20 year mark."
   ]
  },
  {
   "cell_type": "markdown",
   "metadata": {
    "ein.tags": [
     "worksheet-0"
    ],
    "slideshow": {
     "slide_type": "-"
    }
   },
   "source": [
    "### 1.5 Graphical exploration, part 2\n",
    "\n",
    "Create a histogram of village enrollment rates **among poor households in treated villages**, before and after treatment. Specifically, for each village, calculate the average rate of enrollment of poor households in treated villages in 1997, then compute the average rate of enrollment of poor households in treated villages in 1998. Create two separate histograms showing the distribution of these average enrollments rates, one histogram for 1997 and one histogram for 1998. On each histogram, draw a vertical line that intersects the x-axis at the average value (across all households).\n",
    "* Does there appear to be a difference? Is this difference statistically significant?\n",
    "* Which D estimator in Schultz (2004) does this approach correspond to?"
   ]
  },
  {
   "cell_type": "code",
   "execution_count": 15,
   "metadata": {
    "autoscroll": "json-false",
    "collapsed": false,
    "ein.tags": [
     "worksheet-0"
    ],
    "slideshow": {
     "slide_type": "-"
    }
   },
   "outputs": [
    {
     "data": {
      "image/png": "[encoded data removed]",
      "text/plain": [
       "<matplotlib.figure.Figure at 0x2239a6a1898>"
      ]
     },
     "metadata": {},
     "output_type": "display_data"
    },
    {
     "name": "stdout",
     "output_type": "stream",
     "text": [
      "\n",
      "Mean of Avg Enrollment rates in 1997: 0.8138394110596501\n",
      "\n",
      "Mean of Avg Enrollment rates in 1998: 0.8295362042630732\n",
      "\n",
      " Ttest_indResult(statistic=-2.0157134865156379, pvalue=0.04424870036572115)\n"
     ]
    }
   ],
   "source": [
    "# Treatment villages in 1997\n",
    "vill_enroll_97 = progresa_df[(progresa_df['poor'] == 1) & (progresa_df['year'] == 97) & (progresa_df['progresa'] == 1)].groupby('village').mean()\n",
    "vill_enroll_97.reset_index(level=0, inplace = True)\n",
    "\n",
    "\n",
    "# Treatment villages in 1998\n",
    "vill_enroll_98 = progresa_df[(progresa_df['poor'] == 1) & (progresa_df['year'] == 98) & (progresa_df['progresa'] == 1)].groupby('village').mean()\n",
    "vill_enroll_98.reset_index(level=0, inplace = True)\n",
    "\n",
    "rcParams['figure.figsize'] = 8, 5\n",
    "\n",
    "# Plotting histogram for avg enrollment rates by Village in 1997 and drawing a vertical line at teh mean\n",
    "fig = plt.figure()\n",
    "ax1 = fig.add_subplot(131)\n",
    "ax1.hist(vill_enroll_97['sc'], color = \"lightgreen\")\n",
    "xlabel(\"Avg Enrollment Rates in 1997\")\n",
    "ylabel(\"Number of Villages\")\n",
    "plt.axvline(vill_enroll_97['sc'].mean(), color='black', linestyle='dashed', linewidth=2)\n",
    "\n",
    "# Plotting histogram for avg enrollment rates by Village in 1998 and drawing a vertical line at teh mean\n",
    "ax2 = fig.add_subplot(133)\n",
    "ax2.hist(vill_enroll_98['sc'], color = 'lightblue')\n",
    "xlabel(\"Avg Enrollment Rates in 1998\")\n",
    "ylabel(\"Number of Villages\")\n",
    "plt.axvline(vill_enroll_98['sc'].mean(), color='black', linestyle='dashed', linewidth=2)\n",
    "plt.show()\n",
    "\n",
    "# Printing out mean of Average enrollments for the two years and running a quick T test\n",
    "\n",
    "print(\"\\nMean of Avg Enrollment rates in 1997:\",vill_enroll_97['sc'].mean())\n",
    "print(\"\\nMean of Avg Enrollment rates in 1998:\", vill_enroll_98['sc'].mean())\n",
    "t = stats.ttest_ind(vill_enroll_97['sc'][~np.isnan(vill_enroll_97['sc'])], vill_enroll_98['sc'][~np.isnan(vill_enroll_98['sc'])])\n",
    "print(\"\\n\",t)\n"
   ]
  },
  {
   "cell_type": "markdown",
   "metadata": {},
   "source": [
    "From the above histograms we see that the overall mean of the average enrollment rates across villages in 1997 and 1998 has more or less remained the same at around 0.813 and 0.829. From just observing the histogram one might not be able to make a best judgement of the differences and the statistical significance. From the histogram, it looks like there is a shift in more villages moving higher to the 0.8 and 0.9 range in 1998 as compared to the treatment villages in 1997. However, to validate the statistical significance, I ran a T test and found the Pvalue to be 0.044 (so the differences may be statistically significant just by a small margin).\n",
    "\n",
    "The approach corresponds to Difference Estimator DD1."
   ]
  },
  {
   "cell_type": "markdown",
   "metadata": {
    "ein.tags": [
     "worksheet-0"
    ],
    "slideshow": {
     "slide_type": "-"
    }
   },
   "source": [
    "## Part 2: Measuring Impact\n",
    "\n",
    "### 2.1 Simple differences: T-test\n",
    "\n",
    "Start out by estimating the impact of Progresa using \"simple differences.\" Restricting yourself to data from 1998 (after treatment).\n",
    "* calculate the average enrollment rate among **poor** households in the Treatment villages and the average enrollment rate among **poor** households in the control villages.\n",
    "* Which difference estimator in Schultz (2004) does this approach correspond to?\n",
    "* Use a t-test to determine if this difference is statistically significant. What do you conclude?"
   ]
  },
  {
   "cell_type": "code",
   "execution_count": 16,
   "metadata": {
    "autoscroll": "json-false",
    "collapsed": false,
    "ein.tags": [
     "worksheet-0"
    ],
    "slideshow": {
     "slide_type": "-"
    }
   },
   "outputs": [
    {
     "name": "stdout",
     "output_type": "stream",
     "text": [
      "\n",
      "Avg Enrollment in Treated Villages in 98 is:  0.8464791213954308\n",
      "Avg Enrollment in Control Villages in 98 is:  0.807636956730308\n",
      "\n",
      "The Differences in Averages for Control and treatment villages (T Statistic):  -8.35872056742\n",
      "The P value for Statistical Significance:  6.63634444752e-17\n"
     ]
    }
   ],
   "source": [
    "# Isolating the treatment and control villages for the year 1998\n",
    "treatment_98 = progresa_df[(progresa_df['poor'] == 1) & (progresa_df['year'] == 98) & (progresa_df['progresa'] == 1)]\n",
    "control_98 = progresa_df[(progresa_df['poor'] == 1) & (progresa_df['year'] == 98) & (progresa_df['progresa'] == 0)]\n",
    "\n",
    "# Finding and printing out mean values for the enrollment rates in 1998 across treated and control groups\n",
    "treatment_98_avg = treatment_98['sc'].mean()\n",
    "control_98_avg = control_98['sc'].mean()\n",
    "print(\"\\nAvg Enrollment in Treated Villages in 98 is: \", treatment_98_avg)\n",
    "print(\"Avg Enrollment in Control Villages in 98 is: \", control_98_avg)\n",
    "\n",
    "# T test for determining differences in the two groups and their statistical significance\n",
    "t = stats.ttest_ind(control_98['sc'][~np.isnan(control_98['sc'])], treatment_98['sc'][~np.isnan(treatment_98['sc'])])\n",
    "print(\"\\nThe Differences in Averages for Control and treatment villages (T Statistic): \",t.statistic)\n",
    "print(\"The P value for Statistical Significance: \", t.pvalue)"
   ]
  },
  {
   "cell_type": "markdown",
   "metadata": {},
   "source": [
    "The approach corresponds to DD2 estimator.\n",
    "\n",
    "The average enrollment rates are 0.84 and 0.80 in the treated and control villages respectively. From the above impact analysis of the single differences in the enrollment rates in treated and control villages we observe statistically significant differences. It would be fair to conclude just from the data from 1998 for these treatment and control villages that the progresa program had a sizable impact on the enrollment rates of children in the treated villages."
   ]
  },
  {
   "cell_type": "markdown",
   "metadata": {
    "ein.tags": [
     "worksheet-0"
    ],
    "slideshow": {
     "slide_type": "-"
    }
   },
   "source": [
    "### 2.2 Simple differences: Regression\n",
    "\n",
    "Estimate the effects of Progresa on enrollment using a regression model, by regressing the 1998 enrollment rates **of the poor** on treatment assignment. Discuss the following:\n",
    "\n",
    "* Based on this model, how much did Progresa increase the likelihood of a child enrolling?\n",
    "* How does your regression estimate compare to your t-test estimate from part 2.1?\n",
    "* Based on this regression model, can we reject the null hypothesis that the treatment effects are zero? \n",
    "* What is the counterfactual assumption underlying this regression?"
   ]
  },
  {
   "cell_type": "code",
   "execution_count": 17,
   "metadata": {
    "autoscroll": "json-false",
    "collapsed": false,
    "ein.tags": [
     "worksheet-0"
    ],
    "slideshow": {
     "slide_type": "-"
    }
   },
   "outputs": [
    {
     "name": "stderr",
     "output_type": "stream",
     "text": [
      "C:\\Users\\Safelifenetwork6\\Anaconda3\\lib\\site-packages\\pandas\\core\\indexing.py:465: SettingWithCopyWarning: \n",
      "A value is trying to be set on a copy of a slice from a DataFrame.\n",
      "Try using .loc[row_indexer,col_indexer] = value instead\n",
      "\n",
      "See the caveats in the documentation: http://pandas.pydata.org/pandas-docs/stable/indexing.html#indexing-view-versus-copy\n",
      "  self.obj[item] = s\n"
     ]
    },
    {
     "name": "stdout",
     "output_type": "stream",
     "text": [
      "Intercept        0.807637\n",
      "progresa[T.1]    0.038842\n",
      "dtype: float64\n",
      "                            OLS Regression Results                            \n",
      "==============================================================================\n",
      "Dep. Variable:                     sc   R-squared:                       0.003\n",
      "Model:                            OLS   Adj. R-squared:                  0.003\n",
      "Method:                 Least Squares   F-statistic:                     69.87\n",
      "Date:                Thu, 26 Jan 2017   Prob (F-statistic):           6.64e-17\n",
      "Time:                        10:21:52   Log-Likelihood:                -11926.\n",
      "No. Observations:               27450   AIC:                         2.386e+04\n",
      "Df Residuals:                   27448   BIC:                         2.387e+04\n",
      "Df Model:                           1                                         \n",
      "Covariance Type:            nonrobust                                         \n",
      "=================================================================================\n",
      "                    coef    std err          t      P>|t|      [95.0% Conf. Int.]\n",
      "---------------------------------------------------------------------------------\n",
      "Intercept         0.8076      0.004    220.676      0.000         0.800     0.815\n",
      "progresa[T.1]     0.0388      0.005      8.359      0.000         0.030     0.048\n",
      "==============================================================================\n",
      "Omnibus:                     7638.939   Durbin-Watson:                   1.734\n",
      "Prob(Omnibus):                  0.000   Jarque-Bera (JB):            15767.534\n",
      "Skew:                          -1.767   Prob(JB):                         0.00\n",
      "Kurtosis:                       4.140   Cond. No.                         3.01\n",
      "==============================================================================\n",
      "\n",
      "Warnings:\n",
      "[1] Standard Errors assume that the covariance matrix of the errors is correctly specified.\n"
     ]
    }
   ],
   "source": [
    "# Data for 1998 if the poor households\n",
    "data_98 = progresa_df[(progresa_df['poor'] == 1) & (progresa_df['year'] == 98)]\n",
    "data_98.loc[data_98.progresa == 'basal', 'progresa'] = 1\n",
    "data_98.loc[data_98.progresa == '0', 'progresa'] = 0\n",
    "\n",
    "# Running a regression model of enrollment rates on treatment assignment\n",
    "lm = smf.ols(formula='sc ~ progresa', data=data_98).fit()\n",
    "print(lm.params)\n",
    "print(lm.summary())"
   ]
  },
  {
   "cell_type": "markdown",
   "metadata": {},
   "source": [
    "1. From the regression model, we are able to find the impact in terms of single difference of the enrollment rates in 1998 when subjected to the treatment. Progresa increases the likelihood of a child enrolling by 0.038. Further interpretting the parameters of the regression model:\n",
    "    * In absence of treatment, the average enrollment rates would have been 0.807.\n",
    "    * When the family is subject to treatment, there is an expected increase of 0.038 in the average enrollment rates.\n",
    "\n",
    "2. The regression model is in sync with the T test we performed in the above question 2.1. The average values of enrollment in Control Village was 0.8076 (Absence of treatment), and the avg enrollment in treatment villages was 0.8464 (treatment == 1). This can be validated from our regression equation as: 0.8076 + 1 x 0.3884 = 0.8464.\n",
    "\n",
    "3. From the regression model, we can reject the null hypothesis that the treatment effects are zero since the differences are statistically significant (p value < 0.05)\n",
    "\n",
    "4. The counterfactual assumption underlying this regression is that in the absence of treatment, the results in the avg enrollment rates in the treated villages would be equal to the avg enrollment rates in the control villages."
   ]
  },
  {
   "cell_type": "markdown",
   "metadata": {
    "ein.tags": [
     "worksheet-0"
    ],
    "slideshow": {
     "slide_type": "-"
    }
   },
   "source": [
    "### 2.3 Multiple Regression\n",
    "\n",
    "Re-run the above regression estimated but this time include a set of control variables. Include, for instance, age, distance to a secondary school, gender, education of household head, indigenous, etc.\n",
    "\n",
    "* How do the controls affect the point estimate of treatment effect?\n",
    "* How do the controls affect the standard error on the treatment effect? \n",
    "* How do you interpret the differences (or similarities) between your estimates of 2.2 and 2.3?"
   ]
  },
  {
   "cell_type": "code",
   "execution_count": 18,
   "metadata": {
    "autoscroll": "json-false",
    "collapsed": false,
    "ein.tags": [
     "worksheet-0"
    ],
    "slideshow": {
     "slide_type": "-"
    }
   },
   "outputs": [
    {
     "data": {
      "text/html": [
       "<table class=\"simpletable\">\n",
       "<caption>OLS Regression Results</caption>\n",
       "<tr>\n",
       "  <th>Dep. Variable:</th>           <td>sc</td>        <th>  R-squared:         </th> <td>   0.272</td> \n",
       "</tr>\n",
       "<tr>\n",
       "  <th>Model:</th>                   <td>OLS</td>       <th>  Adj. R-squared:    </th> <td>   0.272</td> \n",
       "</tr>\n",
       "<tr>\n",
       "  <th>Method:</th>             <td>Least Squares</td>  <th>  F-statistic:       </th> <td>   849.5</td> \n",
       "</tr>\n",
       "<tr>\n",
       "  <th>Date:</th>             <td>Thu, 26 Jan 2017</td> <th>  Prob (F-statistic):</th>  <td>  0.00</td>  \n",
       "</tr>\n",
       "<tr>\n",
       "  <th>Time:</th>                 <td>10:21:52</td>     <th>  Log-Likelihood:    </th> <td> -7541.1</td> \n",
       "</tr>\n",
       "<tr>\n",
       "  <th>No. Observations:</th>      <td> 27263</td>      <th>  AIC:               </th> <td>1.511e+04</td>\n",
       "</tr>\n",
       "<tr>\n",
       "  <th>Df Residuals:</th>          <td> 27250</td>      <th>  BIC:               </th> <td>1.521e+04</td>\n",
       "</tr>\n",
       "<tr>\n",
       "  <th>Df Model:</th>              <td>    12</td>      <th>                     </th>     <td> </td>    \n",
       "</tr>\n",
       "<tr>\n",
       "  <th>Covariance Type:</th>      <td>nonrobust</td>    <th>                     </th>     <td> </td>    \n",
       "</tr>\n",
       "</table>\n",
       "<table class=\"simpletable\">\n",
       "<tr>\n",
       "        <td></td>           <th>coef</th>     <th>std err</th>      <th>t</th>      <th>P>|t|</th> <th>[95.0% Conf. Int.]</th> \n",
       "</tr>\n",
       "<tr>\n",
       "  <th>Intercept</th>     <td>    1.4431</td> <td>    0.018</td> <td>   80.855</td> <td> 0.000</td> <td>    1.408     1.478</td>\n",
       "</tr>\n",
       "<tr>\n",
       "  <th>progresa[T.1]</th> <td>    0.0337</td> <td>    0.004</td> <td>    8.418</td> <td> 0.000</td> <td>    0.026     0.042</td>\n",
       "</tr>\n",
       "<tr>\n",
       "  <th>sex</th>           <td>    0.0304</td> <td>    0.004</td> <td>    7.847</td> <td> 0.000</td> <td>    0.023     0.038</td>\n",
       "</tr>\n",
       "<tr>\n",
       "  <th>indig</th>         <td>    0.0188</td> <td>    0.005</td> <td>    3.961</td> <td> 0.000</td> <td>    0.009     0.028</td>\n",
       "</tr>\n",
       "<tr>\n",
       "  <th>dist_sec</th>      <td>   -0.0106</td> <td>    0.001</td> <td>  -12.012</td> <td> 0.000</td> <td>   -0.012    -0.009</td>\n",
       "</tr>\n",
       "<tr>\n",
       "  <th>fam_n</th>         <td>    0.0006</td> <td>    0.001</td> <td>    0.727</td> <td> 0.467</td> <td>   -0.001     0.002</td>\n",
       "</tr>\n",
       "<tr>\n",
       "  <th>min_dist</th>      <td>    0.0004</td> <td> 6.34e-05</td> <td>    6.326</td> <td> 0.000</td> <td>    0.000     0.001</td>\n",
       "</tr>\n",
       "<tr>\n",
       "  <th>dist_cap</th>      <td>    0.0002</td> <td>  3.7e-05</td> <td>    5.512</td> <td> 0.000</td> <td>    0.000     0.000</td>\n",
       "</tr>\n",
       "<tr>\n",
       "  <th>hohedu</th>        <td>    0.0079</td> <td>    0.001</td> <td>    9.224</td> <td> 0.000</td> <td>    0.006     0.010</td>\n",
       "</tr>\n",
       "<tr>\n",
       "  <th>hohwag</th>        <td> -7.23e-07</td> <td> 2.81e-06</td> <td>   -0.257</td> <td> 0.797</td> <td>-6.24e-06  4.79e-06</td>\n",
       "</tr>\n",
       "<tr>\n",
       "  <th>welfare_index</th> <td> 2.283e-05</td> <td> 1.82e-05</td> <td>    1.253</td> <td> 0.210</td> <td>-1.29e-05  5.85e-05</td>\n",
       "</tr>\n",
       "<tr>\n",
       "  <th>age</th>           <td>   -0.0657</td> <td>    0.001</td> <td>  -94.750</td> <td> 0.000</td> <td>   -0.067    -0.064</td>\n",
       "</tr>\n",
       "<tr>\n",
       "  <th>hohage</th>        <td>-2.299e-05</td> <td>    0.000</td> <td>   -0.118</td> <td> 0.906</td> <td>   -0.000     0.000</td>\n",
       "</tr>\n",
       "</table>\n",
       "<table class=\"simpletable\">\n",
       "<tr>\n",
       "  <th>Omnibus:</th>       <td>2940.375</td> <th>  Durbin-Watson:     </th> <td>   1.729</td>\n",
       "</tr>\n",
       "<tr>\n",
       "  <th>Prob(Omnibus):</th>  <td> 0.000</td>  <th>  Jarque-Bera (JB):  </th> <td>3992.254</td>\n",
       "</tr>\n",
       "<tr>\n",
       "  <th>Skew:</th>           <td>-0.930</td>  <th>  Prob(JB):          </th> <td>    0.00</td>\n",
       "</tr>\n",
       "<tr>\n",
       "  <th>Kurtosis:</th>       <td> 3.237</td>  <th>  Cond. No.          </th> <td>9.54e+03</td>\n",
       "</tr>\n",
       "</table>"
      ],
      "text/plain": [
       "<class 'statsmodels.iolib.summary.Summary'>\n",
       "\"\"\"\n",
       "                            OLS Regression Results                            \n",
       "==============================================================================\n",
       "Dep. Variable:                     sc   R-squared:                       0.272\n",
       "Model:                            OLS   Adj. R-squared:                  0.272\n",
       "Method:                 Least Squares   F-statistic:                     849.5\n",
       "Date:                Thu, 26 Jan 2017   Prob (F-statistic):               0.00\n",
       "Time:                        10:21:52   Log-Likelihood:                -7541.1\n",
       "No. Observations:               27263   AIC:                         1.511e+04\n",
       "Df Residuals:                   27250   BIC:                         1.521e+04\n",
       "Df Model:                          12                                         \n",
       "Covariance Type:            nonrobust                                         \n",
       "=================================================================================\n",
       "                    coef    std err          t      P>|t|      [95.0% Conf. Int.]\n",
       "---------------------------------------------------------------------------------\n",
       "Intercept         1.4431      0.018     80.855      0.000         1.408     1.478\n",
       "progresa[T.1]     0.0337      0.004      8.418      0.000         0.026     0.042\n",
       "sex               0.0304      0.004      7.847      0.000         0.023     0.038\n",
       "indig             0.0188      0.005      3.961      0.000         0.009     0.028\n",
       "dist_sec         -0.0106      0.001    -12.012      0.000        -0.012    -0.009\n",
       "fam_n             0.0006      0.001      0.727      0.467        -0.001     0.002\n",
       "min_dist          0.0004   6.34e-05      6.326      0.000         0.000     0.001\n",
       "dist_cap          0.0002    3.7e-05      5.512      0.000         0.000     0.000\n",
       "hohedu            0.0079      0.001      9.224      0.000         0.006     0.010\n",
       "hohwag         -7.23e-07   2.81e-06     -0.257      0.797     -6.24e-06  4.79e-06\n",
       "welfare_index  2.283e-05   1.82e-05      1.253      0.210     -1.29e-05  5.85e-05\n",
       "age              -0.0657      0.001    -94.750      0.000        -0.067    -0.064\n",
       "hohage        -2.299e-05      0.000     -0.118      0.906        -0.000     0.000\n",
       "==============================================================================\n",
       "Omnibus:                     2940.375   Durbin-Watson:                   1.729\n",
       "Prob(Omnibus):                  0.000   Jarque-Bera (JB):             3992.254\n",
       "Skew:                          -0.930   Prob(JB):                         0.00\n",
       "Kurtosis:                       3.237   Cond. No.                     9.54e+03\n",
       "==============================================================================\n",
       "\n",
       "Warnings:\n",
       "[1] Standard Errors assume that the covariance matrix of the errors is correctly specified.\n",
       "[2] The condition number is large, 9.54e+03. This might indicate that there are\n",
       "strong multicollinearity or other numerical problems.\n",
       "\"\"\""
      ]
     },
     "execution_count": 18,
     "metadata": {},
     "output_type": "execute_result"
    }
   ],
   "source": [
    "\n",
    "# Multiple linear regression with additional set of control variables\n",
    "multiple_lm = smf.ols(formula='sc ~ progresa + sex + indig + dist_sec + fam_n + min_dist + dist_cap + hohedu + hohwag + welfare_index + age + hohage', data=data_98).fit()\n",
    "multiple_lm.summary()"
   ]
  },
  {
   "cell_type": "markdown",
   "metadata": {},
   "source": [
    "\n",
    "This is an interesting model, introducing other control variables has improved the regression model in many ways. Firstly, the R sqaured value of this model is much better at 0.272 as compared to the previous single regression model whose R squared value is 0.003. Let's take a quick look into the specifics of the multivariate regression model below:\n",
    "* Introducing the control factors has changed the point estimate for the treatment effect progress and it has decreased from 0.0388 in the single linear model to 0.0337 in the multiple regression model. This is not a huge drop but there are some notable changes in the intercept value of this model. There are other parameters in this multiple regression model which are also considerably statistically significant but not large in terms of their magnitude values.\n",
    "\n",
    "* The introduction of the control variables has improved the standard error on the treatment effect from 0.005 to 0.004. Since the standard error of the estimate is a measurement of accuracy of a prediction, this introduction of other variables has solidified the prediction of our treatment effect and giving us a better representation of the bigger picture.\n",
    "\n",
    "* The interpretation of our estimates in the multiple regression is interesting, mainly because the estimate of the intercept value is 1.4431 which is greater than 1 as compared to 0.8076 from the model in 2.2. Now, taking a deeper look at the other estimates we notice that the estimate of age and nearest distance to a secondary school are negative at -0.0657 and -0.0106 respectively. This means that for increase in age of a child by 1 year, there would be a decrease in the avg enrollment rates by 0.0657 units assuming other factors are not changed. And for every one mile farther the school is located, even this decreases the avg enrollment rate by 0.0106 holding other factors constant. Older students are less likely to enroll into school and families staying far are also less likely to send their kids to school. (Since this is a randomized trial it is fair to build foundations of a causal relationship). In addition to these factors, the most prominent promoter of the school enrollment is still the treatment effect of the progresa fund given to families which has an estimate of 0.0337."
   ]
  },
  {
   "cell_type": "markdown",
   "metadata": {
    "ein.tags": [
     "worksheet-0"
    ],
    "slideshow": {
     "slide_type": "-"
    }
   },
   "source": [
    "### 2.4 Difference-in-Difference, version 1 (tabular)\n",
    "\n",
    "Thus far, we have computed the effects of Progresa by estimating the difference in 1998 enrollment rates across villages. An alternative approach would be to compute the treatment effect using a difference-in-differences framework.\n",
    "\n",
    "Begin by estimating the average treatment effects of the program for poor households using data from 1997 and 1998. Specifically, calculate the difference (between 1997 and 1998) in enrollment rates among poor households in treated villages; then compute the difference (between 1997 and 1998) in enrollment rates among poor households in treated villages. The difference between these two differences is your estimate.\n",
    "\n",
    "* What is your estimate of the impact, and how does it compare to your earlier (simple difference) results?\n",
    "* What is the counterfactual assumption underlying this estimate? \n"
   ]
  },
  {
   "cell_type": "code",
   "execution_count": 19,
   "metadata": {
    "autoscroll": "json-false",
    "collapsed": false,
    "ein.tags": [
     "worksheet-0"
    ],
    "slideshow": {
     "slide_type": "-"
    }
   },
   "outputs": [
    {
     "name": "stdout",
     "output_type": "stream",
     "text": [
      "The result of Difference-in-Difference gives us the estimate of the treatment effect on enrollment rates! \n",
      "The value is:  0.031331280319323085\n",
      "\n",
      "See table below for individual average values for treatment and control groups before and after treatment:\n"
     ]
    },
    {
     "data": {
      "text/html": [
       "<div>\n",
       "<table border=\"1\" class=\"dataframe\">\n",
       "  <thead>\n",
       "    <tr style=\"text-align: right;\">\n",
       "      <th></th>\n",
       "      <th>Control Group</th>\n",
       "      <th>Treatment Group</th>\n",
       "    </tr>\n",
       "  </thead>\n",
       "  <tbody>\n",
       "    <tr>\n",
       "      <th>Avg Enrollment Before Treatment</th>\n",
       "      <td>0.815186</td>\n",
       "      <td>0.822697</td>\n",
       "    </tr>\n",
       "    <tr>\n",
       "      <th>Avg Enrollment After Treatment</th>\n",
       "      <td>0.807637</td>\n",
       "      <td>0.846479</td>\n",
       "    </tr>\n",
       "  </tbody>\n",
       "</table>\n",
       "</div>"
      ],
      "text/plain": [
       "                                Control Group Treatment Group\n",
       "Avg Enrollment Before Treatment      0.815186        0.822697\n",
       "Avg Enrollment After Treatment       0.807637        0.846479"
      ]
     },
     "execution_count": 19,
     "metadata": {},
     "output_type": "execute_result"
    }
   ],
   "source": [
    "# Subsetting data for two years differently\n",
    "data_97 = progresa_df[(progresa_df['poor'] == 1) & (progresa_df['year'] == 97)]\n",
    "data_98 = progresa_df[(progresa_df['poor'] == 1) & (progresa_df['year'] == 98)]\n",
    "\n",
    "# Creating a new dataframe for showing results in a tabular format\n",
    "index = ['Avg Enrollment Before Treatment', 'Avg Enrollment After Treatment']\n",
    "cols = ['Control Group', 'Treatment Group']\n",
    "double_diff = pd.DataFrame(index = index, columns = cols)\n",
    "\n",
    "# Calculating mean values\n",
    "treatment_avg_98 = data_98['sc'][data_98.progresa == 1].mean() \n",
    "treatment_avg_97 = data_97['sc'][data_97.progresa == 1].mean()\n",
    "control_avg_98 =  data_98['sc'][data_98.progresa == 0].mean()\n",
    "control_avg_97 =  data_97['sc'][data_97.progresa == 0].mean()\n",
    "\n",
    "# Finding the difference in difference value for impact evaluation of our treatment effect\n",
    "diff_in_diff = (treatment_avg_98 - treatment_avg_97) - (control_avg_98 - control_avg_97)\n",
    "print(\"The result of Difference-in-Difference gives us the estimate of the treatment effect on enrollment rates! \")\n",
    "print(\"The value is: \", diff_in_diff)\n",
    "print(\"\\nSee table below for individual average values for treatment and control groups before and after treatment:\")\n",
    "double_diff.loc[\"Avg Enrollment Before Treatment\",\"Control Group\"] = control_avg_97\n",
    "double_diff.loc[\"Avg Enrollment After Treatment\",\"Control Group\"] = control_avg_98\n",
    "double_diff.loc[\"Avg Enrollment Before Treatment\",\"Treatment Group\"] = treatment_avg_97\n",
    "double_diff.loc[\"Avg Enrollment After Treatment\",\"Treatment Group\"] = treatment_avg_98\n",
    "double_diff"
   ]
  },
  {
   "cell_type": "markdown",
   "metadata": {},
   "source": [
    "* The estimate of our impact using the Difference-in-Difference method gives us a value of 0.0313 which is lower when compared to the estimate derived from the earlier simple difference methods which produced an estimate of 0.0388. The estimate produced in the Difference-in-Difference method is more accurate.\n",
    "\n",
    "* The counterfactual assumption here in this case is that the trends in treatment group and control group would have been the same in the absence of treatment."
   ]
  },
  {
   "cell_type": "markdown",
   "metadata": {
    "ein.tags": [
     "worksheet-0"
    ],
    "slideshow": {
     "slide_type": "-"
    }
   },
   "source": [
    "### 2.5 Difference-in-Difference, version 1 (regression)\n",
    "\n",
    "Now use a regression specification to estimate the average treatment effect of the program (on the poor) in a difference-in-differences framework. Include at least 5 control variables.\n",
    "\n",
    "* What is your estimate of the impact of Progresa? Be very specific in interpreting your coefficients and standard errors, and make sure to specify exactly what units you are measuring and estimating.\n",
    "* How do these estimates of the treatment effect compare to the estimates based on the simple difference?\n",
    "* How do these estimates compare to the difference-in-difference estimates from 2.4 above? What accounts for these differences?\n",
    "* What is the counterfactual assumption underlying this regression? "
   ]
  },
  {
   "cell_type": "code",
   "execution_count": 20,
   "metadata": {
    "autoscroll": "json-false",
    "collapsed": false,
    "ein.tags": [
     "worksheet-0"
    ],
    "slideshow": {
     "slide_type": "-"
    }
   },
   "outputs": [
    {
     "data": {
      "text/html": [
       "<table class=\"simpletable\">\n",
       "<caption>OLS Regression Results</caption>\n",
       "<tr>\n",
       "  <th>Dep. Variable:</th>           <td>sc</td>        <th>  R-squared:         </th> <td>   0.282</td> \n",
       "</tr>\n",
       "<tr>\n",
       "  <th>Model:</th>                   <td>OLS</td>       <th>  Adj. R-squared:    </th> <td>   0.282</td> \n",
       "</tr>\n",
       "<tr>\n",
       "  <th>Method:</th>             <td>Least Squares</td>  <th>  F-statistic:       </th> <td>   2296.</td> \n",
       "</tr>\n",
       "<tr>\n",
       "  <th>Date:</th>             <td>Thu, 26 Jan 2017</td> <th>  Prob (F-statistic):</th>  <td>  0.00</td>  \n",
       "</tr>\n",
       "<tr>\n",
       "  <th>Time:</th>                 <td>10:21:52</td>     <th>  Log-Likelihood:    </th> <td> -16585.</td> \n",
       "</tr>\n",
       "<tr>\n",
       "  <th>No. Observations:</th>      <td> 58344</td>      <th>  AIC:               </th> <td>3.319e+04</td>\n",
       "</tr>\n",
       "<tr>\n",
       "  <th>Df Residuals:</th>          <td> 58333</td>      <th>  BIC:               </th> <td>3.329e+04</td>\n",
       "</tr>\n",
       "<tr>\n",
       "  <th>Df Model:</th>              <td>    10</td>      <th>                     </th>     <td> </td>    \n",
       "</tr>\n",
       "<tr>\n",
       "  <th>Covariance Type:</th>      <td>nonrobust</td>    <th>                     </th>     <td> </td>    \n",
       "</tr>\n",
       "</table>\n",
       "<table class=\"simpletable\">\n",
       "<tr>\n",
       "           <td></td>             <th>coef</th>     <th>std err</th>      <th>t</th>      <th>P>|t|</th> <th>[95.0% Conf. Int.]</th> \n",
       "</tr>\n",
       "<tr>\n",
       "  <th>Intercept</th>          <td>    1.4215</td> <td>    0.009</td> <td>  158.822</td> <td> 0.000</td> <td>    1.404     1.439</td>\n",
       "</tr>\n",
       "<tr>\n",
       "  <th>progresa[T.1]</th>      <td>    0.0031</td> <td>    0.004</td> <td>    0.817</td> <td> 0.414</td> <td>   -0.004     0.010</td>\n",
       "</tr>\n",
       "<tr>\n",
       "  <th>post</th>               <td>    0.0274</td> <td>    0.004</td> <td>    6.321</td> <td> 0.000</td> <td>    0.019     0.036</td>\n",
       "</tr>\n",
       "<tr>\n",
       "  <th>progresa[T.1]:post</th> <td>    0.0313</td> <td>    0.005</td> <td>    5.690</td> <td> 0.000</td> <td>    0.020     0.042</td>\n",
       "</tr>\n",
       "<tr>\n",
       "  <th>sex</th>                <td>    0.0331</td> <td>    0.003</td> <td>   12.429</td> <td> 0.000</td> <td>    0.028     0.038</td>\n",
       "</tr>\n",
       "<tr>\n",
       "  <th>dist_sec</th>           <td>   -0.0093</td> <td>    0.001</td> <td>  -15.020</td> <td> 0.000</td> <td>   -0.010    -0.008</td>\n",
       "</tr>\n",
       "<tr>\n",
       "  <th>min_dist</th>           <td>    0.0004</td> <td> 4.37e-05</td> <td>    8.550</td> <td> 0.000</td> <td>    0.000     0.000</td>\n",
       "</tr>\n",
       "<tr>\n",
       "  <th>dist_cap</th>           <td>    0.0003</td> <td> 2.36e-05</td> <td>   10.821</td> <td> 0.000</td> <td>    0.000     0.000</td>\n",
       "</tr>\n",
       "<tr>\n",
       "  <th>hohedu</th>             <td>    0.0072</td> <td>    0.001</td> <td>   12.322</td> <td> 0.000</td> <td>    0.006     0.008</td>\n",
       "</tr>\n",
       "<tr>\n",
       "  <th>age</th>                <td>   -0.0657</td> <td>    0.000</td> <td> -143.888</td> <td> 0.000</td> <td>   -0.067    -0.065</td>\n",
       "</tr>\n",
       "<tr>\n",
       "  <th>hohage</th>             <td>    0.0002</td> <td>    0.000</td> <td>    1.838</td> <td> 0.066</td> <td>-1.58e-05     0.000</td>\n",
       "</tr>\n",
       "</table>\n",
       "<table class=\"simpletable\">\n",
       "<tr>\n",
       "  <th>Omnibus:</th>       <td>5488.522</td> <th>  Durbin-Watson:     </th> <td>   1.491</td>\n",
       "</tr>\n",
       "<tr>\n",
       "  <th>Prob(Omnibus):</th>  <td> 0.000</td>  <th>  Jarque-Bera (JB):  </th> <td>7205.368</td>\n",
       "</tr>\n",
       "<tr>\n",
       "  <th>Skew:</th>           <td>-0.859</td>  <th>  Prob(JB):          </th> <td>    0.00</td>\n",
       "</tr>\n",
       "<tr>\n",
       "  <th>Kurtosis:</th>       <td> 3.110</td>  <th>  Cond. No.          </th> <td>1.45e+03</td>\n",
       "</tr>\n",
       "</table>"
      ],
      "text/plain": [
       "<class 'statsmodels.iolib.summary.Summary'>\n",
       "\"\"\"\n",
       "                            OLS Regression Results                            \n",
       "==============================================================================\n",
       "Dep. Variable:                     sc   R-squared:                       0.282\n",
       "Model:                            OLS   Adj. R-squared:                  0.282\n",
       "Method:                 Least Squares   F-statistic:                     2296.\n",
       "Date:                Thu, 26 Jan 2017   Prob (F-statistic):               0.00\n",
       "Time:                        10:21:52   Log-Likelihood:                -16585.\n",
       "No. Observations:               58344   AIC:                         3.319e+04\n",
       "Df Residuals:                   58333   BIC:                         3.329e+04\n",
       "Df Model:                          10                                         \n",
       "Covariance Type:            nonrobust                                         \n",
       "======================================================================================\n",
       "                         coef    std err          t      P>|t|      [95.0% Conf. Int.]\n",
       "--------------------------------------------------------------------------------------\n",
       "Intercept              1.4215      0.009    158.822      0.000         1.404     1.439\n",
       "progresa[T.1]          0.0031      0.004      0.817      0.414        -0.004     0.010\n",
       "post                   0.0274      0.004      6.321      0.000         0.019     0.036\n",
       "progresa[T.1]:post     0.0313      0.005      5.690      0.000         0.020     0.042\n",
       "sex                    0.0331      0.003     12.429      0.000         0.028     0.038\n",
       "dist_sec              -0.0093      0.001    -15.020      0.000        -0.010    -0.008\n",
       "min_dist               0.0004   4.37e-05      8.550      0.000         0.000     0.000\n",
       "dist_cap               0.0003   2.36e-05     10.821      0.000         0.000     0.000\n",
       "hohedu                 0.0072      0.001     12.322      0.000         0.006     0.008\n",
       "age                   -0.0657      0.000   -143.888      0.000        -0.067    -0.065\n",
       "hohage                 0.0002      0.000      1.838      0.066     -1.58e-05     0.000\n",
       "==============================================================================\n",
       "Omnibus:                     5488.522   Durbin-Watson:                   1.491\n",
       "Prob(Omnibus):                  0.000   Jarque-Bera (JB):             7205.368\n",
       "Skew:                          -0.859   Prob(JB):                         0.00\n",
       "Kurtosis:                       3.110   Cond. No.                     1.45e+03\n",
       "==============================================================================\n",
       "\n",
       "Warnings:\n",
       "[1] Standard Errors assume that the covariance matrix of the errors is correctly specified.\n",
       "[2] The condition number is large, 1.45e+03. This might indicate that there are\n",
       "strong multicollinearity or other numerical problems.\n",
       "\"\"\""
      ]
     },
     "execution_count": 20,
     "metadata": {},
     "output_type": "execute_result"
    }
   ],
   "source": [
    "progresa_df.loc[progresa_df['poor'] == 'pobre', 'poor'] = 1\n",
    "progresa_df.loc[progresa_df['poor'] ==  'no pobre', 'poor'] = 0\n",
    "progresa_df.loc[progresa_df.year == 97, 'post'] = 0\n",
    "progresa_df.loc[progresa_df.year == 98, 'post'] = 1\n",
    "pd.to_numeric(progresa_df['progresa'])\n",
    "pd.to_numeric(progresa_df['poor'])\n",
    "progresa_poor = progresa_df[progresa_df['poor'] == 1]\n",
    "dd_lm = smf.ols(formula = 'sc ~ progresa + post + progresa:post + sex + dist_sec  + min_dist + dist_cap + hohedu + age + hohage', data=progresa_poor).fit()\n",
    "dd_lm.summary()"
   ]
  },
  {
   "cell_type": "markdown",
   "metadata": {},
   "source": [
    "* We take into consideration the interaction between the treatment term and the year to quantify the causal impact. Interpretting the coefficients below:\n",
    "    * Interpretting \"progresa:post\" interaction coefficient: For families in year 1998 being subjected to the progresa subsidy program, the average enrollment rates would be 0.0313 higher.\n",
    "    * Interpretting \"post\" term: For the year 1998, the average enrollment rate is higher by 0.0274.\n",
    "    * The progresa coefficient has the value 0.0031 but it is no longer statistically significant.\n",
    "* The impact estimation of the difference in difference model is lower than that of simple difference. The possible explanation could be the lack of thoroughness in considering the different players in the simple difference model hence giving us estimates higher than the true impact of the treatment.Also, with an assumption that it is a randomized trial, the covariance between any control variables and the treatment should be 0.\n",
    "* The overall impact is more or similar to that of 2.4 except that we have introduced terms of the time consideration and its interaction with the progresa treatment. The impact in the year 1998 for the treatment group would be measured as a sum of these 3 terms while the double difference in tabular format would just consider the differences in the means of the treatment and control group before and after treatment. Additionally, there can be some differences by introduction of control variables (in the case of randomization failure allowing systematic differences even before the groups are subject to any treatment).\n",
    "* The counterfactual assumption is that the trends in treatment group and control group would have been the same in the absence of treatment."
   ]
  },
  {
   "cell_type": "markdown",
   "metadata": {
    "ein.tags": [
     "worksheet-0"
    ],
    "slideshow": {
     "slide_type": "-"
    }
   },
   "source": [
    "### 2.6 Difference-in-Difference, version 2\n",
    "\n",
    "In the previous problem, you estimated a difference-in-differences model that compared changes in enrollment rates over time across treatment and control villages. An alternative approach would be to compare enrollment rates in 1998 between poor and non-poor across treatment and control villages. \n",
    "\n",
    "* How would we estimate this version of the treatment effects in a regression model? \n",
    "* What is the counterfactual assumption underlying this regression?\n",
    "* How do these treatment effects compare to the estimates above?\n",
    "* Discuss some possible explanations for differences or similarities "
   ]
  },
  {
   "cell_type": "code",
   "execution_count": 21,
   "metadata": {
    "autoscroll": "json-false",
    "collapsed": false,
    "ein.tags": [
     "worksheet-0"
    ],
    "slideshow": {
     "slide_type": "-"
    }
   },
   "outputs": [
    {
     "data": {
      "text/html": [
       "<table class=\"simpletable\">\n",
       "<caption>OLS Regression Results</caption>\n",
       "<tr>\n",
       "  <th>Dep. Variable:</th>           <td>sc</td>        <th>  R-squared:         </th> <td>   0.274</td> \n",
       "</tr>\n",
       "<tr>\n",
       "  <th>Model:</th>                   <td>OLS</td>       <th>  Adj. R-squared:    </th> <td>   0.274</td> \n",
       "</tr>\n",
       "<tr>\n",
       "  <th>Method:</th>             <td>Least Squares</td>  <th>  F-statistic:       </th> <td>   1344.</td> \n",
       "</tr>\n",
       "<tr>\n",
       "  <th>Date:</th>             <td>Thu, 26 Jan 2017</td> <th>  Prob (F-statistic):</th>  <td>  0.00</td>  \n",
       "</tr>\n",
       "<tr>\n",
       "  <th>Time:</th>                 <td>10:21:53</td>     <th>  Log-Likelihood:    </th> <td> -9237.3</td> \n",
       "</tr>\n",
       "<tr>\n",
       "  <th>No. Observations:</th>      <td> 32097</td>      <th>  AIC:               </th> <td>1.849e+04</td>\n",
       "</tr>\n",
       "<tr>\n",
       "  <th>Df Residuals:</th>          <td> 32087</td>      <th>  BIC:               </th> <td>1.858e+04</td>\n",
       "</tr>\n",
       "<tr>\n",
       "  <th>Df Model:</th>              <td>     9</td>      <th>                     </th>     <td> </td>    \n",
       "</tr>\n",
       "<tr>\n",
       "  <th>Covariance Type:</th>      <td>nonrobust</td>    <th>                     </th>     <td> </td>    \n",
       "</tr>\n",
       "</table>\n",
       "<table class=\"simpletable\">\n",
       "<tr>\n",
       "             <td></td>                <th>coef</th>     <th>std err</th>      <th>t</th>      <th>P>|t|</th> <th>[95.0% Conf. Int.]</th> \n",
       "</tr>\n",
       "<tr>\n",
       "  <th>Intercept</th>               <td>    1.4816</td> <td>    0.012</td> <td>  122.903</td> <td> 0.000</td> <td>    1.458     1.505</td>\n",
       "</tr>\n",
       "<tr>\n",
       "  <th>progresa[T.1]</th>           <td>    0.0250</td> <td>    0.010</td> <td>    2.583</td> <td> 0.010</td> <td>    0.006     0.044</td>\n",
       "</tr>\n",
       "<tr>\n",
       "  <th>poor[T.1]</th>               <td>   -0.0211</td> <td>    0.008</td> <td>   -2.558</td> <td> 0.011</td> <td>   -0.037    -0.005</td>\n",
       "</tr>\n",
       "<tr>\n",
       "  <th>progresa[T.1]:poor[T.1]</th> <td>    0.0094</td> <td>    0.010</td> <td>    0.894</td> <td> 0.371</td> <td>   -0.011     0.030</td>\n",
       "</tr>\n",
       "<tr>\n",
       "  <th>sex</th>                     <td>    0.0306</td> <td>    0.004</td> <td>    8.493</td> <td> 0.000</td> <td>    0.024     0.038</td>\n",
       "</tr>\n",
       "<tr>\n",
       "  <th>dist_sec</th>                <td>   -0.0105</td> <td>    0.001</td> <td>  -12.741</td> <td> 0.000</td> <td>   -0.012    -0.009</td>\n",
       "</tr>\n",
       "<tr>\n",
       "  <th>min_dist</th>                <td>    0.0003</td> <td> 5.92e-05</td> <td>    5.736</td> <td> 0.000</td> <td>    0.000     0.000</td>\n",
       "</tr>\n",
       "<tr>\n",
       "  <th>dist_cap</th>                <td>    0.0003</td> <td> 3.28e-05</td> <td>    9.368</td> <td> 0.000</td> <td>    0.000     0.000</td>\n",
       "</tr>\n",
       "<tr>\n",
       "  <th>hohedu</th>                  <td>    0.0085</td> <td>    0.001</td> <td>   12.210</td> <td> 0.000</td> <td>    0.007     0.010</td>\n",
       "</tr>\n",
       "<tr>\n",
       "  <th>age</th>                     <td>   -0.0661</td> <td>    0.001</td> <td> -103.966</td> <td> 0.000</td> <td>   -0.067    -0.065</td>\n",
       "</tr>\n",
       "</table>\n",
       "<table class=\"simpletable\">\n",
       "<tr>\n",
       "  <th>Omnibus:</th>       <td>3179.660</td> <th>  Durbin-Watson:     </th> <td>   1.732</td>\n",
       "</tr>\n",
       "<tr>\n",
       "  <th>Prob(Omnibus):</th>  <td> 0.000</td>  <th>  Jarque-Bera (JB):  </th> <td>4231.906</td>\n",
       "</tr>\n",
       "<tr>\n",
       "  <th>Skew:</th>           <td>-0.888</td>  <th>  Prob(JB):          </th> <td>    0.00</td>\n",
       "</tr>\n",
       "<tr>\n",
       "  <th>Kurtosis:</th>       <td> 3.111</td>  <th>  Cond. No.          </th> <td>1.92e+03</td>\n",
       "</tr>\n",
       "</table>"
      ],
      "text/plain": [
       "<class 'statsmodels.iolib.summary.Summary'>\n",
       "\"\"\"\n",
       "                            OLS Regression Results                            \n",
       "==============================================================================\n",
       "Dep. Variable:                     sc   R-squared:                       0.274\n",
       "Model:                            OLS   Adj. R-squared:                  0.274\n",
       "Method:                 Least Squares   F-statistic:                     1344.\n",
       "Date:                Thu, 26 Jan 2017   Prob (F-statistic):               0.00\n",
       "Time:                        10:21:53   Log-Likelihood:                -9237.3\n",
       "No. Observations:               32097   AIC:                         1.849e+04\n",
       "Df Residuals:                   32087   BIC:                         1.858e+04\n",
       "Df Model:                           9                                         \n",
       "Covariance Type:            nonrobust                                         \n",
       "===========================================================================================\n",
       "                              coef    std err          t      P>|t|      [95.0% Conf. Int.]\n",
       "-------------------------------------------------------------------------------------------\n",
       "Intercept                   1.4816      0.012    122.903      0.000         1.458     1.505\n",
       "progresa[T.1]               0.0250      0.010      2.583      0.010         0.006     0.044\n",
       "poor[T.1]                  -0.0211      0.008     -2.558      0.011        -0.037    -0.005\n",
       "progresa[T.1]:poor[T.1]     0.0094      0.010      0.894      0.371        -0.011     0.030\n",
       "sex                         0.0306      0.004      8.493      0.000         0.024     0.038\n",
       "dist_sec                   -0.0105      0.001    -12.741      0.000        -0.012    -0.009\n",
       "min_dist                    0.0003   5.92e-05      5.736      0.000         0.000     0.000\n",
       "dist_cap                    0.0003   3.28e-05      9.368      0.000         0.000     0.000\n",
       "hohedu                      0.0085      0.001     12.210      0.000         0.007     0.010\n",
       "age                        -0.0661      0.001   -103.966      0.000        -0.067    -0.065\n",
       "==============================================================================\n",
       "Omnibus:                     3179.660   Durbin-Watson:                   1.732\n",
       "Prob(Omnibus):                  0.000   Jarque-Bera (JB):             4231.906\n",
       "Skew:                          -0.888   Prob(JB):                         0.00\n",
       "Kurtosis:                       3.111   Cond. No.                     1.92e+03\n",
       "==============================================================================\n",
       "\n",
       "Warnings:\n",
       "[1] Standard Errors assume that the covariance matrix of the errors is correctly specified.\n",
       "[2] The condition number is large, 1.92e+03. This might indicate that there are\n",
       "strong multicollinearity or other numerical problems.\n",
       "\"\"\""
      ]
     },
     "execution_count": 21,
     "metadata": {},
     "output_type": "execute_result"
    }
   ],
   "source": [
    "progresa_df_98 = progresa_df[progresa_df['year'] == 98]\n",
    "dd_lm = smf.ols(formula = 'sc ~ progresa + poor + progresa:poor + sex + dist_sec  + min_dist + dist_cap + hohedu + age', data=progresa_df_98).fit()\n",
    "dd_lm.summary()"
   ]
  },
  {
   "cell_type": "markdown",
   "metadata": {},
   "source": [
    "* The above alternative approach compares enrollment rates in 1998 between poor and non-poor across treatment and control villages. The interpretation for some of our estimates:\n",
    "    * 'Progresa' coefficient is 0.0250 which signifies the causal impact of households recieving the progresa program benefits (treatment group) would result in the average enrollment rates increasing by 0.0250.\n",
    "    * 'Poor' coefficient value is -0.0211 which implies that for the poor households would have lower average enrollment rates by 0.0211. This is somewhat strange since only the poor households are supposed to receive the progresa subsidy and the expected behavior is that the avg enrollment rates for poor households is supposed to be higher.\n",
    "    * The interaction between progresa:poor[T.1] has an estimate of 0.0094 but this value is not statistically significant (p value > 0.05).\n",
    "* The counterfactual assumption underlying this regression model is that in the absence of treatment effect, the average enrollment rates across poor and non-poor households remains the same.\n",
    "* These treatment effects are slightly different from our calculations above: when we add the coefficient values to find the total causal impact of progresa on poor households in 1998 we get the value of 0.0250+0.0211-0.0094 gives us the impact of 0.0367. However, the term 0.0094 for the interaction between poor and progresa is not significant (one possible reason why it may not be significant is that only poor households are anyways expected to be a part of the progresa program and not the non-poor households).\n",
    "* Some starking differnces are in terms of the sign of the impact terms -- poor coefficient is negative, this is against the run of expected behavior of the poor households would get the benefit from progresa allowing the avg enrollments to be higher. Additionally, the progresa:poor interaction term is not statistically significant possibly because only poor households are expected to be a part of the progresa program and not the non-poor households."
   ]
  },
  {
   "cell_type": "markdown",
   "metadata": {
    "ein.tags": [
     "worksheet-0"
    ],
    "slideshow": {
     "slide_type": "-"
    }
   },
   "source": [
    "### 2.7 Spillover effects (extra credit)\n",
    "\n",
    "Thus far, we have focused on the impact of PROGRESA on poor households. Repeat your analysis in 2.5, using a double-difference regression to estimate the impact of PROGRESA on non-poor households. In other words, compare the difference in enrollments between 1997 and 1998 for non-poor households in treatment villages with the difference in enrollments between 1997 and 1998 for non-poor households in control villages.\n",
    "\n",
    "* A: Describe one or two reasons why PROGRESA might have impacted non-poor households.\n",
    "* B: Do you observe any impacts of PROGRESA on the non-poor?\n",
    "* C: What is the identifying assumption that you are using to estimate the impact of PROGRESA on non-poor households."
   ]
  },
  {
   "cell_type": "markdown",
   "metadata": {
    "ein.tags": [
     "worksheet-0"
    ],
    "slideshow": {
     "slide_type": "-"
    }
   },
   "source": [
    "### 2.8 Summary\n",
    "\n",
    "Based on all the analysis you have undertaken to date, do you thik that Progresa had a causal impact on the enrollment rates of poor households in Mexico?"
   ]
  },
  {
   "cell_type": "markdown",
   "metadata": {
    "autoscroll": "json-false",
    "collapsed": false,
    "ein.tags": [
     "worksheet-0"
    ],
    "slideshow": {
     "slide_type": "-"
    }
   },
   "source": [
    "This was an interesting study, and yes, the progresa program did have causal impact on the enrollment rates of the poor households in Mexico in 1998. In addition to that it may have also boosted the overall enrollment across the villages in both treatment and control groups.\n",
    "\n",
    "However, the magnitude of the impact is not drastically high as growth in enrollment rates occurs over a period of time as the scale of the program grows and more households are treated with the subsidy.\n",
    "There are multiple things to consider to ensure results of the study (causal impact of treatment) being accurately quantified and also the process is implemented without intended flaw. Assuming that the study was conducted with good randomization and the treatment and control groups do not differ significantly allows us to measure the causal impact accurately.\n",
    "\n",
    "In the end, the return on investment for the stakeholders (in this case the government pumping money) calculation matters. If the government is paying more than what the enrollment costs then the amount may be used for other purposes. Also, there is no way to validate if the money is actually used for enrollment purposes (for instance, the government subsidizes 100 households, but only few tens actually get their children enrolled -- the progresa program still has an impact but the magnitude is not as high as it is supposed to be)."
   ]
  }
 ],
 "metadata": {
  "anaconda-cloud": {},
  "kernelspec": {
   "display_name": "Python [conda root]",
   "language": "python",
   "name": "conda-root-py"
  },
  "language_info": {
   "codemirror_mode": {
    "name": "ipython",
    "version": 3
   },
   "file_extension": ".py",
   "mimetype": "text/x-python",
   "name": "python",
   "nbconvert_exporter": "python",
   "pygments_lexer": "ipython3",
   "version": "3.5.2"
  },
  "name": "INFX574-PS2.ipynb"
 },
 "nbformat": 4,
 "nbformat_minor": 2
}
